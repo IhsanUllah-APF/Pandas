{
 "cells": [
  {
   "cell_type": "code",
   "execution_count": 1,
   "id": "30e12134",
   "metadata": {},
   "outputs": [],
   "source": [
    "# %pwd # to find out the current directory"
   ]
  },
  {
   "cell_type": "code",
   "execution_count": 2,
   "id": "3bbe6c34",
   "metadata": {},
   "outputs": [],
   "source": [
    "# !pip list # to find out all the packages installed or libraries installed through pip. firts # for commenting out code."
   ]
  },
  {
   "cell_type": "markdown",
   "id": "7e7bdb39",
   "metadata": {},
   "source": [
    "cell --> cell type --> markdown. This won't be a code, so won't give error when cell set to Markdown."
   ]
  },
  {
   "cell_type": "code",
   "execution_count": 3,
   "id": "d1fb267b",
   "metadata": {},
   "outputs": [],
   "source": [
    "# %magic # gives descriptions and syntax of important commands"
   ]
  },
  {
   "cell_type": "code",
   "execution_count": 4,
   "id": "f918886a",
   "metadata": {},
   "outputs": [],
   "source": [
    "# %matplotlib inline # produces the graph in notebook."
   ]
  },
  {
   "cell_type": "code",
   "execution_count": 5,
   "id": "03639f49",
   "metadata": {},
   "outputs": [],
   "source": [
    "# A and B inserts lines above and below respectively when in command mode. Shit + Enter to execute and insert new line."
   ]
  },
  {
   "cell_type": "code",
   "execution_count": 6,
   "id": "c44c5871",
   "metadata": {},
   "outputs": [
    {
     "data": {
      "text/html": [
       "# Headline\n",
       "This is a normal paragraph.\n",
       "* Headline \n",
       "This headline starts *\n"
      ],
      "text/plain": [
       "<IPython.core.display.HTML object>"
      ]
     },
     "metadata": {},
     "output_type": "display_data"
    }
   ],
   "source": [
    "%%HTML # will render the html directly without using the markdown. remove the comment from this line when executing since\n",
    "# comments # and Headline # are confusing for pandas.\n",
    "# Headline\n",
    "This is a normal paragraph.\n",
    "* Headline \n",
    "This headline starts *"
   ]
  },
  {
   "cell_type": "code",
   "execution_count": 7,
   "id": "b95ca139",
   "metadata": {},
   "outputs": [
    {
     "data": {
      "text/html": [
       "<div>\n",
       "<style scoped>\n",
       "    .dataframe tbody tr th:only-of-type {\n",
       "        vertical-align: middle;\n",
       "    }\n",
       "\n",
       "    .dataframe tbody tr th {\n",
       "        vertical-align: top;\n",
       "    }\n",
       "\n",
       "    .dataframe thead th {\n",
       "        text-align: right;\n",
       "    }\n",
       "</style>\n",
       "<table border=\"1\" class=\"dataframe\">\n",
       "  <thead>\n",
       "    <tr style=\"text-align: right;\">\n",
       "      <th></th>\n",
       "      <th>0</th>\n",
       "      <th>1</th>\n",
       "      <th>2</th>\n",
       "      <th>3</th>\n",
       "      <th>4</th>\n",
       "    </tr>\n",
       "  </thead>\n",
       "  <tbody>\n",
       "    <tr>\n",
       "      <th>0</th>\n",
       "      <td>2.631330</td>\n",
       "      <td>-0.549266</td>\n",
       "      <td>0.155347</td>\n",
       "      <td>-0.401034</td>\n",
       "      <td>-0.559429</td>\n",
       "    </tr>\n",
       "    <tr>\n",
       "      <th>1</th>\n",
       "      <td>-0.110374</td>\n",
       "      <td>-1.863833</td>\n",
       "      <td>1.639197</td>\n",
       "      <td>1.618043</td>\n",
       "      <td>-0.845606</td>\n",
       "    </tr>\n",
       "    <tr>\n",
       "      <th>2</th>\n",
       "      <td>-0.911859</td>\n",
       "      <td>-0.513068</td>\n",
       "      <td>0.025875</td>\n",
       "      <td>-0.728551</td>\n",
       "      <td>-0.637957</td>\n",
       "    </tr>\n",
       "    <tr>\n",
       "      <th>3</th>\n",
       "      <td>0.476563</td>\n",
       "      <td>0.731973</td>\n",
       "      <td>0.171280</td>\n",
       "      <td>-0.044156</td>\n",
       "      <td>0.096577</td>\n",
       "    </tr>\n",
       "    <tr>\n",
       "      <th>4</th>\n",
       "      <td>-0.969211</td>\n",
       "      <td>-0.233045</td>\n",
       "      <td>-0.422333</td>\n",
       "      <td>-1.362549</td>\n",
       "      <td>0.086703</td>\n",
       "    </tr>\n",
       "    <tr>\n",
       "      <th>5</th>\n",
       "      <td>-0.509633</td>\n",
       "      <td>-0.518329</td>\n",
       "      <td>-1.194440</td>\n",
       "      <td>-1.518687</td>\n",
       "      <td>-0.277885</td>\n",
       "    </tr>\n",
       "    <tr>\n",
       "      <th>6</th>\n",
       "      <td>-0.190255</td>\n",
       "      <td>-1.964059</td>\n",
       "      <td>-2.719731</td>\n",
       "      <td>-0.885336</td>\n",
       "      <td>-1.600010</td>\n",
       "    </tr>\n",
       "    <tr>\n",
       "      <th>7</th>\n",
       "      <td>1.268292</td>\n",
       "      <td>0.087871</td>\n",
       "      <td>-0.774812</td>\n",
       "      <td>0.554178</td>\n",
       "      <td>-0.350299</td>\n",
       "    </tr>\n",
       "    <tr>\n",
       "      <th>8</th>\n",
       "      <td>-0.331077</td>\n",
       "      <td>1.107083</td>\n",
       "      <td>-0.096465</td>\n",
       "      <td>0.242431</td>\n",
       "      <td>0.000325</td>\n",
       "    </tr>\n",
       "    <tr>\n",
       "      <th>9</th>\n",
       "      <td>-0.769547</td>\n",
       "      <td>-0.532461</td>\n",
       "      <td>0.075526</td>\n",
       "      <td>0.125229</td>\n",
       "      <td>1.684353</td>\n",
       "    </tr>\n",
       "  </tbody>\n",
       "</table>\n",
       "</div>"
      ],
      "text/plain": [
       "          0         1         2         3         4\n",
       "0  2.631330 -0.549266  0.155347 -0.401034 -0.559429\n",
       "1 -0.110374 -1.863833  1.639197  1.618043 -0.845606\n",
       "2 -0.911859 -0.513068  0.025875 -0.728551 -0.637957\n",
       "3  0.476563  0.731973  0.171280 -0.044156  0.096577\n",
       "4 -0.969211 -0.233045 -0.422333 -1.362549  0.086703\n",
       "5 -0.509633 -0.518329 -1.194440 -1.518687 -0.277885\n",
       "6 -0.190255 -1.964059 -2.719731 -0.885336 -1.600010\n",
       "7  1.268292  0.087871 -0.774812  0.554178 -0.350299\n",
       "8 -0.331077  1.107083 -0.096465  0.242431  0.000325\n",
       "9 -0.769547 -0.532461  0.075526  0.125229  1.684353"
      ]
     },
     "execution_count": 7,
     "metadata": {},
     "output_type": "execute_result"
    }
   ],
   "source": [
    "import pandas as pd\n",
    "import numpy as np\n",
    "df = pd.DataFrame(np.random.randn(10,5))\n",
    "df"
   ]
  },
  {
   "cell_type": "code",
   "execution_count": 8,
   "id": "efa82b7e",
   "metadata": {},
   "outputs": [
    {
     "data": {
      "text/html": [
       "<div>\n",
       "<style scoped>\n",
       "    .dataframe tbody tr th:only-of-type {\n",
       "        vertical-align: middle;\n",
       "    }\n",
       "\n",
       "    .dataframe tbody tr th {\n",
       "        vertical-align: top;\n",
       "    }\n",
       "\n",
       "    .dataframe thead th {\n",
       "        text-align: right;\n",
       "    }\n",
       "</style>\n",
       "<table border=\"1\" class=\"dataframe\">\n",
       "  <thead>\n",
       "    <tr style=\"text-align: right;\">\n",
       "      <th></th>\n",
       "      <th>0</th>\n",
       "      <th>1</th>\n",
       "      <th>2</th>\n",
       "      <th>3</th>\n",
       "      <th>4</th>\n",
       "    </tr>\n",
       "  </thead>\n",
       "  <tbody>\n",
       "    <tr>\n",
       "      <th>0</th>\n",
       "      <td>2.631330</td>\n",
       "      <td>-0.549266</td>\n",
       "      <td>0.155347</td>\n",
       "      <td>-0.401034</td>\n",
       "      <td>-0.559429</td>\n",
       "    </tr>\n",
       "    <tr>\n",
       "      <th>1</th>\n",
       "      <td>-0.110374</td>\n",
       "      <td>-1.863833</td>\n",
       "      <td>1.639197</td>\n",
       "      <td>1.618043</td>\n",
       "      <td>-0.845606</td>\n",
       "    </tr>\n",
       "    <tr>\n",
       "      <th>2</th>\n",
       "      <td>-0.911859</td>\n",
       "      <td>-0.513068</td>\n",
       "      <td>0.025875</td>\n",
       "      <td>-0.728551</td>\n",
       "      <td>-0.637957</td>\n",
       "    </tr>\n",
       "    <tr>\n",
       "      <th>3</th>\n",
       "      <td>0.476563</td>\n",
       "      <td>0.731973</td>\n",
       "      <td>0.171280</td>\n",
       "      <td>-0.044156</td>\n",
       "      <td>0.096577</td>\n",
       "    </tr>\n",
       "    <tr>\n",
       "      <th>4</th>\n",
       "      <td>-0.969211</td>\n",
       "      <td>-0.233045</td>\n",
       "      <td>-0.422333</td>\n",
       "      <td>-1.362549</td>\n",
       "      <td>0.086703</td>\n",
       "    </tr>\n",
       "  </tbody>\n",
       "</table>\n",
       "</div>"
      ],
      "text/plain": [
       "          0         1         2         3         4\n",
       "0  2.631330 -0.549266  0.155347 -0.401034 -0.559429\n",
       "1 -0.110374 -1.863833  1.639197  1.618043 -0.845606\n",
       "2 -0.911859 -0.513068  0.025875 -0.728551 -0.637957\n",
       "3  0.476563  0.731973  0.171280 -0.044156  0.096577\n",
       "4 -0.969211 -0.233045 -0.422333 -1.362549  0.086703"
      ]
     },
     "execution_count": 8,
     "metadata": {},
     "output_type": "execute_result"
    }
   ],
   "source": [
    "df.head()"
   ]
  },
  {
   "cell_type": "code",
   "execution_count": 9,
   "id": "339ae3a6",
   "metadata": {},
   "outputs": [],
   "source": [
    "# file --> download as --> html for instance and save it for later reference or share on blog or udemy course etc."
   ]
  },
  {
   "cell_type": "code",
   "execution_count": 10,
   "id": "993f5fad",
   "metadata": {},
   "outputs": [],
   "source": [
    "# https://gist.github.com/ocoyawale/54d92fd4bf92508a2a6e482b5fa480fd # to access other people code. Download and open it\n",
    "# and play with it for learning. Go to Introductory tutorials --> collection of notebooks --> Trapezoid Rule. Download and\n",
    "# save it in current directory (command interface - pandas folder in this case) and run it from Notebook."
   ]
  },
  {
   "cell_type": "code",
   "execution_count": null,
   "id": "29dd5e50",
   "metadata": {},
   "outputs": [],
   "source": []
  }
 ],
 "metadata": {
  "kernelspec": {
   "display_name": "Python 3 (ipykernel)",
   "language": "python",
   "name": "python3"
  },
  "language_info": {
   "codemirror_mode": {
    "name": "ipython",
    "version": 3
   },
   "file_extension": ".py",
   "mimetype": "text/x-python",
   "name": "python",
   "nbconvert_exporter": "python",
   "pygments_lexer": "ipython3",
   "version": "3.10.0"
  }
 },
 "nbformat": 4,
 "nbformat_minor": 5
}
