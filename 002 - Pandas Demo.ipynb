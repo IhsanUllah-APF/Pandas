{
 "cells": [
  {
   "cell_type": "code",
   "execution_count": 1,
   "id": "82a1a120",
   "metadata": {},
   "outputs": [],
   "source": [
    "import pandas as pd"
   ]
  },
  {
   "cell_type": "code",
   "execution_count": 2,
   "id": "3d871e69",
   "metadata": {},
   "outputs": [],
   "source": [
    "df = pd.read_csv('data\\survey_results_public.csv')\n",
    "# give relative path in the (). The relative path starts from the folder in which data files exist.\n",
    "# very important that the file should exist in the same folder(pandas here) from where we have started jupyter notebook\n",
    "# in the cmd prompt."
   ]
  },
  {
   "cell_type": "code",
   "execution_count": 15,
   "id": "002b2cc4",
   "metadata": {},
   "outputs": [],
   "source": [
    "# df # data frame is a collection of rows and columns"
   ]
  },
  {
   "cell_type": "code",
   "execution_count": 4,
   "id": "f1299bac",
   "metadata": {},
   "outputs": [
    {
     "data": {
      "text/plain": [
       "(88883, 85)"
      ]
     },
     "execution_count": 4,
     "metadata": {},
     "output_type": "execute_result"
    }
   ],
   "source": [
    "df.shape # shape is attribute and not method or function so don't put in ()"
   ]
  },
  {
   "cell_type": "code",
   "execution_count": 13,
   "id": "a852c488",
   "metadata": {},
   "outputs": [],
   "source": [
    "# df.info() # info is a method so we need to put in (). Gives information about columns and their datatype etc. Usually \n",
    "# object means string here."
   ]
  },
  {
   "cell_type": "code",
   "execution_count": 9,
   "id": "eabf23a6",
   "metadata": {},
   "outputs": [],
   "source": [
    "pd.set_option('display.max_columns', 85) # display all the columns. 'display.max_columns' seems attribute."
   ]
  },
  {
   "cell_type": "code",
   "execution_count": 16,
   "id": "9d5ef340",
   "metadata": {},
   "outputs": [],
   "source": [
    "# df # now all the columns will be displayed."
   ]
  },
  {
   "cell_type": "code",
   "execution_count": 18,
   "id": "9193a070",
   "metadata": {},
   "outputs": [],
   "source": [
    "schema_df = pd.read_csv('data\\survey_results_schema.csv') # another file that gives info about the variables in the first\n",
    "# file."
   ]
  },
  {
   "cell_type": "code",
   "execution_count": 28,
   "id": "62f2e07f",
   "metadata": {},
   "outputs": [],
   "source": [
    "# schema_df"
   ]
  },
  {
   "cell_type": "code",
   "execution_count": 20,
   "id": "f01f823a",
   "metadata": {},
   "outputs": [],
   "source": [
    "pd.set_option('display.max_rows', 85) # now we can see all the variables and their description."
   ]
  },
  {
   "cell_type": "code",
   "execution_count": 22,
   "id": "8fdbade9",
   "metadata": {},
   "outputs": [],
   "source": [
    "# schema_df"
   ]
  },
  {
   "cell_type": "code",
   "execution_count": 25,
   "id": "e3b394a1",
   "metadata": {},
   "outputs": [],
   "source": [
    "# df.head(10) # show the first 10 rows"
   ]
  },
  {
   "cell_type": "code",
   "execution_count": 27,
   "id": "56651e3f",
   "metadata": {},
   "outputs": [],
   "source": [
    "# df.tail(10) # shows the last 10 rows"
   ]
  },
  {
   "cell_type": "code",
   "execution_count": null,
   "id": "1720eb0c",
   "metadata": {},
   "outputs": [],
   "source": []
  }
 ],
 "metadata": {
  "kernelspec": {
   "display_name": "Python 3 (ipykernel)",
   "language": "python",
   "name": "python3"
  },
  "language_info": {
   "codemirror_mode": {
    "name": "ipython",
    "version": 3
   },
   "file_extension": ".py",
   "mimetype": "text/x-python",
   "name": "python",
   "nbconvert_exporter": "python",
   "pygments_lexer": "ipython3",
   "version": "3.10.0"
  }
 },
 "nbformat": 4,
 "nbformat_minor": 5
}
