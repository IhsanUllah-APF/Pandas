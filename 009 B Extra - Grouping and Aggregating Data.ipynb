{
 "cells": [
  {
   "cell_type": "code",
   "execution_count": null,
   "id": "952dccd3",
   "metadata": {},
   "outputs": [],
   "source": [
    "# Bismillah"
   ]
  },
  {
   "cell_type": "code",
   "execution_count": null,
   "id": "48c3bd83",
   "metadata": {},
   "outputs": [],
   "source": [
    "import pandas as pd"
   ]
  },
  {
   "cell_type": "code",
   "execution_count": null,
   "id": "f5ea34a7",
   "metadata": {},
   "outputs": [],
   "source": [
    "df = pd.read_csv('data/survey_results_public.csv', index_col = 'Respondent')\n",
    "schema_df = pd.read_csv('data\\survey_results_schema.csv', index_col = 'Column')"
   ]
  },
  {
   "cell_type": "code",
   "execution_count": null,
   "id": "af43f67e",
   "metadata": {},
   "outputs": [],
   "source": [
    "pd.set_option('display.max_columns', 85)\n",
    "pd.set_option('display.max_rows', 85)"
   ]
  },
  {
   "cell_type": "code",
   "execution_count": null,
   "id": "9d915eb4",
   "metadata": {
    "scrolled": true
   },
   "outputs": [],
   "source": [
    "df.head()"
   ]
  },
  {
   "cell_type": "code",
   "execution_count": null,
   "id": "59ef598b",
   "metadata": {
    "scrolled": true
   },
   "outputs": [],
   "source": [
    "df['ConvertedComp'].head(50)"
   ]
  },
  {
   "cell_type": "code",
   "execution_count": null,
   "id": "19efb3e3",
   "metadata": {},
   "outputs": [],
   "source": [
    "df['ConvertedComp'].median() # call the median method to find the mendian of the column/variable, ConvertedComp."
   ]
  },
  {
   "cell_type": "code",
   "execution_count": null,
   "id": "ab3392af",
   "metadata": {},
   "outputs": [],
   "source": [
    "df.median() # will produce median for the numeric variables. The warning says to type the names of numeric variables."
   ]
  },
  {
   "cell_type": "code",
   "execution_count": null,
   "id": "88d3e09f",
   "metadata": {},
   "outputs": [],
   "source": [
    "# df.median(['CompTotal', 'ConvertedComp', 'WorkWeekHrs', 'CodeRevHrs', 'Age']) # produces error."
   ]
  },
  {
   "cell_type": "code",
   "execution_count": null,
   "id": "03dd2ee3",
   "metadata": {},
   "outputs": [],
   "source": [
    "df.describe() # to obtain the descriptive statistics. Count shows the non-missing values."
   ]
  },
  {
   "cell_type": "code",
   "execution_count": null,
   "id": "485c1459",
   "metadata": {},
   "outputs": [],
   "source": [
    "df['ConvertedComp'].describe() # will produce the descriptive statistics only for the selected variable."
   ]
  },
  {
   "cell_type": "code",
   "execution_count": null,
   "id": "65b8101b",
   "metadata": {},
   "outputs": [],
   "source": [
    "df['ConvertedComp'].count() # includes only non-missing values."
   ]
  },
  {
   "cell_type": "code",
   "execution_count": null,
   "id": "0ca36d63",
   "metadata": {},
   "outputs": [],
   "source": [
    "df['ConvertedComp'].value_counts() # 709 people have reported salaries of 2 Million. Produces kind of frequency distrib.,\n",
    "# which in this case contains 9162 rows, which is not that help as expected with any numeric variable."
   ]
  },
  {
   "cell_type": "code",
   "execution_count": null,
   "id": "f211ad4e",
   "metadata": {},
   "outputs": [],
   "source": [
    "df['Hobbyist'].value_counts() # there are only two categories so this frequency distribution makes more sense."
   ]
  },
  {
   "cell_type": "code",
   "execution_count": null,
   "id": "d0e478c9",
   "metadata": {},
   "outputs": [],
   "source": [
    "df['SocialMedia']"
   ]
  },
  {
   "cell_type": "code",
   "execution_count": null,
   "id": "16c96e94",
   "metadata": {},
   "outputs": [],
   "source": [
    "schema_df.loc['SocialMedia'] # to know about the question asked regarding SocialMedia."
   ]
  },
  {
   "cell_type": "code",
   "execution_count": null,
   "id": "d8045f95",
   "metadata": {},
   "outputs": [],
   "source": [
    "schema_df"
   ]
  },
  {
   "cell_type": "code",
   "execution_count": null,
   "id": "9f747845",
   "metadata": {},
   "outputs": [],
   "source": [
    "df['SocialMedia'].value_counts() # 14,374 have reported Reddit and so on. This is again kind of frequency distribution."
   ]
  },
  {
   "cell_type": "code",
   "execution_count": null,
   "id": "7926e9ee",
   "metadata": {},
   "outputs": [],
   "source": [
    "df['SocialMedia'].value_counts(normalize = True) # to obtain percentages."
   ]
  },
  {
   "cell_type": "code",
   "execution_count": null,
   "id": "89f3ee1f",
   "metadata": {},
   "outputs": [],
   "source": [
    "df['Country']"
   ]
  },
  {
   "cell_type": "code",
   "execution_count": null,
   "id": "a710840f",
   "metadata": {},
   "outputs": [],
   "source": [
    "df['Country'].value_counts() # most of the respondents are from the United States."
   ]
  },
  {
   "cell_type": "code",
   "execution_count": null,
   "id": "291ad566",
   "metadata": {},
   "outputs": [],
   "source": [
    "filt = df['Country'] == 'United States'"
   ]
  },
  {
   "cell_type": "code",
   "execution_count": null,
   "id": "0457b6a4",
   "metadata": {
    "scrolled": true
   },
   "outputs": [],
   "source": [
    "df.loc[filt]\n",
    "# grabs all the observations in dataframe for United States."
   ]
  },
  {
   "cell_type": "code",
   "execution_count": null,
   "id": "b41772ac",
   "metadata": {},
   "outputs": [],
   "source": [
    "df.loc[filt]['SocialMedia'] # will grab the SocialMedia column of the filter dataframe."
   ]
  },
  {
   "cell_type": "code",
   "execution_count": null,
   "id": "d998df24",
   "metadata": {},
   "outputs": [],
   "source": [
    "df.loc[filt]['SocialMedia'].value_counts() # will give frequency distribution/value count for social media for filter \n",
    "# dataframe, in this case United States. It tells the top social media sites in the united states. If we want to do it\n",
    "# for other countries, then we have to change the filter and repeat all the steps. So, the following method is mroe\n",
    "# efficient for this purpose."
   ]
  },
  {
   "cell_type": "code",
   "execution_count": null,
   "id": "687869f6",
   "metadata": {},
   "outputs": [],
   "source": [
    "# As alternative to creating filter, observations in dataframe for a particular country, suppose United States, can be\n",
    "# grabed using 'groupby' method.\n",
    "df.groupby(['Country']) # DataFrameGroupBy object created and stored in the memory location 0x000002B.... It appears that\n",
    "# the dataframe has been grouped by (divided) based on countries. Or as Corey said, the rows have been grouped by \n",
    "# countries."
   ]
  },
  {
   "cell_type": "code",
   "execution_count": null,
   "id": "dc3cbcca",
   "metadata": {
    "scrolled": true
   },
   "outputs": [],
   "source": [
    "df.groupby(['Country']).get_group('United States')"
   ]
  },
  {
   "cell_type": "code",
   "execution_count": null,
   "id": "ad93cb23",
   "metadata": {},
   "outputs": [],
   "source": [
    "# Or alternatively, to help in typing\n",
    "country_group = df.groupby(['Country'])"
   ]
  },
  {
   "cell_type": "code",
   "execution_count": null,
   "id": "59b1154d",
   "metadata": {},
   "outputs": [],
   "source": [
    "country_group"
   ]
  },
  {
   "cell_type": "code",
   "execution_count": null,
   "id": "17107de9",
   "metadata": {
    "scrolled": true
   },
   "outputs": [],
   "source": [
    "country_group.get_group('United States') # grabs all the observations in dataframe for United States."
   ]
  },
  {
   "cell_type": "code",
   "execution_count": null,
   "id": "18b0de38",
   "metadata": {
    "scrolled": true
   },
   "outputs": [],
   "source": [
    "country_group.get_group('India') # just by typing the country, we can obtain the observations for the desirable country.\n",
    "# The same can be done by using filter, but it will require changing filter again and again.\n"
   ]
  },
  {
   "cell_type": "code",
   "execution_count": null,
   "id": "5f0ed904",
   "metadata": {},
   "outputs": [],
   "source": [
    "country_group.get_group('India')['SocialMedia'].value_counts() # 1st METHOD."
   ]
  },
  {
   "cell_type": "code",
   "execution_count": null,
   "id": "a774c352",
   "metadata": {},
   "outputs": [],
   "source": [
    "country_group # divide or group the data in the dataframe based on the countries."
   ]
  },
  {
   "cell_type": "code",
   "execution_count": null,
   "id": "2490a5b9",
   "metadata": {},
   "outputs": [],
   "source": [
    "country_group['SocialMedia'] \n",
    "# country_group has already grouped/divided the data in dataframe based on countries. Country_group['SocialMedia'] takes\n",
    "# the same dataframe, already grouped on countries, and obtains from it the column, SocialMedia, and stores it as a \n",
    "# SeriesGroupBy object at memory location 0x000002B.... "
   ]
  },
  {
   "cell_type": "code",
   "execution_count": null,
   "id": "94796970",
   "metadata": {},
   "outputs": [],
   "source": [
    "country_group['SocialMedia'].value_counts() \n",
    "# grab the value counts/ frequencies for Social Media from the seires already stored as an object above, which contains\n",
    "# the data/values in SocialMedia column grouped on countries."
   ]
  },
  {
   "cell_type": "code",
   "execution_count": null,
   "id": "d330bfd9",
   "metadata": {
    "scrolled": true
   },
   "outputs": [],
   "source": [
    "country_group['SocialMedia'].value_counts().head(50) # to show more results."
   ]
  },
  {
   "cell_type": "code",
   "execution_count": null,
   "id": "475dcae7",
   "metadata": {},
   "outputs": [],
   "source": [
    "country_group['SocialMedia'].value_counts().loc['India'] \n",
    "# Countries are acting as an index above. So, with .loc, we can find the SocialMedia data for any country. "
   ]
  },
  {
   "cell_type": "code",
   "execution_count": null,
   "id": "0cc4eaa4",
   "metadata": {},
   "outputs": [],
   "source": []
  }
 ],
 "metadata": {
  "kernelspec": {
   "display_name": "Python 3 (ipykernel)",
   "language": "python",
   "name": "python3"
  },
  "language_info": {
   "codemirror_mode": {
    "name": "ipython",
    "version": 3
   },
   "file_extension": ".py",
   "mimetype": "text/x-python",
   "name": "python",
   "nbconvert_exporter": "python",
   "pygments_lexer": "ipython3",
   "version": "3.10.0"
  }
 },
 "nbformat": 4,
 "nbformat_minor": 5
}
