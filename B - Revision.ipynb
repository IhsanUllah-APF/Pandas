{
 "cells": [
  {
   "cell_type": "code",
   "execution_count": null,
   "id": "2bd56a2e",
   "metadata": {},
   "outputs": [],
   "source": [
    "# Bismillah"
   ]
  },
  {
   "cell_type": "code",
   "execution_count": 3,
   "id": "ee16a06d",
   "metadata": {},
   "outputs": [],
   "source": [
    "import pandas as pd"
   ]
  },
  {
   "cell_type": "code",
   "execution_count": 4,
   "id": "2a4dd9e6",
   "metadata": {},
   "outputs": [],
   "source": [
    "df = pd.read_csv('data/survey_results_public.csv')\n",
    "schema_df = pd.read_csv('data\\survey_results_schema.csv')"
   ]
  },
  {
   "cell_type": "code",
   "execution_count": 5,
   "id": "98ff8f64",
   "metadata": {},
   "outputs": [],
   "source": [
    "pd.set_option('display.max_columns', 85)\n",
    "pd.set_option('display.max_columns', 85)"
   ]
  },
  {
   "cell_type": "code",
   "execution_count": null,
   "id": "aae03f71",
   "metadata": {
    "scrolled": true
   },
   "outputs": [],
   "source": [
    "df.head()"
   ]
  },
  {
   "cell_type": "code",
   "execution_count": null,
   "id": "79be2a28",
   "metadata": {
    "scrolled": true
   },
   "outputs": [],
   "source": [
    "# df.tail(10)"
   ]
  },
  {
   "cell_type": "code",
   "execution_count": null,
   "id": "1f702ae6",
   "metadata": {},
   "outputs": [],
   "source": [
    "# df.shape"
   ]
  },
  {
   "cell_type": "code",
   "execution_count": null,
   "id": "edb774e8",
   "metadata": {
    "scrolled": true
   },
   "outputs": [],
   "source": [
    "# df.info()"
   ]
  },
  {
   "cell_type": "code",
   "execution_count": null,
   "id": "3f4132dc",
   "metadata": {},
   "outputs": [],
   "source": [
    "# schema_df"
   ]
  },
  {
   "cell_type": "code",
   "execution_count": null,
   "id": "f500d12f",
   "metadata": {},
   "outputs": [],
   "source": [
    "# PART 2."
   ]
  },
  {
   "cell_type": "code",
   "execution_count": null,
   "id": "fb6e1b3c",
   "metadata": {},
   "outputs": [],
   "source": [
    "df.shape"
   ]
  },
  {
   "cell_type": "code",
   "execution_count": null,
   "id": "d94c25cc",
   "metadata": {},
   "outputs": [],
   "source": [
    "schema_df.shape"
   ]
  },
  {
   "cell_type": "code",
   "execution_count": null,
   "id": "e233dc98",
   "metadata": {},
   "outputs": [],
   "source": [
    "df['Hobbyist']"
   ]
  },
  {
   "cell_type": "code",
   "execution_count": null,
   "id": "60515355",
   "metadata": {},
   "outputs": [],
   "source": [
    "df['Hobbyist'].value_counts()"
   ]
  },
  {
   "cell_type": "code",
   "execution_count": null,
   "id": "062fb500",
   "metadata": {
    "scrolled": true
   },
   "outputs": [],
   "source": [
    "df.iloc[0]"
   ]
  },
  {
   "cell_type": "code",
   "execution_count": null,
   "id": "5834805a",
   "metadata": {
    "scrolled": true
   },
   "outputs": [],
   "source": [
    "df.loc[0]"
   ]
  },
  {
   "cell_type": "code",
   "execution_count": null,
   "id": "e2457ee1",
   "metadata": {},
   "outputs": [],
   "source": [
    "df.iloc[0, 2]"
   ]
  },
  {
   "cell_type": "code",
   "execution_count": null,
   "id": "3da3cec7",
   "metadata": {},
   "outputs": [],
   "source": [
    "df.loc[0, 'Hobbyist']"
   ]
  },
  {
   "cell_type": "code",
   "execution_count": null,
   "id": "818e8380",
   "metadata": {},
   "outputs": [],
   "source": [
    "df.loc[[0, 1, 2], 'Hobbyist']"
   ]
  },
  {
   "cell_type": "code",
   "execution_count": null,
   "id": "34413071",
   "metadata": {},
   "outputs": [],
   "source": [
    "df.loc[[0, 1, 2], ['Hobbyist', 'Country']]"
   ]
  },
  {
   "cell_type": "code",
   "execution_count": null,
   "id": "c95cc91c",
   "metadata": {},
   "outputs": [],
   "source": [
    "df.loc[0:2, 'Hobbyist']"
   ]
  },
  {
   "cell_type": "code",
   "execution_count": null,
   "id": "b6cb63bc",
   "metadata": {},
   "outputs": [],
   "source": [
    "df.loc[0:2, ['Hobbyist', 'Employment']]"
   ]
  },
  {
   "cell_type": "code",
   "execution_count": null,
   "id": "6f107b75",
   "metadata": {},
   "outputs": [],
   "source": [
    "df.loc[0:2, 'Hobbyist':'Employment']"
   ]
  },
  {
   "cell_type": "code",
   "execution_count": 1,
   "id": "e786f99d",
   "metadata": {},
   "outputs": [],
   "source": [
    "# PART 3"
   ]
  },
  {
   "cell_type": "code",
   "execution_count": null,
   "id": "0d692322",
   "metadata": {},
   "outputs": [],
   "source": []
  },
  {
   "cell_type": "code",
   "execution_count": null,
   "id": "386ca3b7",
   "metadata": {},
   "outputs": [],
   "source": []
  }
 ],
 "metadata": {
  "kernelspec": {
   "display_name": "Python 3 (ipykernel)",
   "language": "python",
   "name": "python3"
  },
  "language_info": {
   "codemirror_mode": {
    "name": "ipython",
    "version": 3
   },
   "file_extension": ".py",
   "mimetype": "text/x-python",
   "name": "python",
   "nbconvert_exporter": "python",
   "pygments_lexer": "ipython3",
   "version": "3.10.0"
  }
 },
 "nbformat": 4,
 "nbformat_minor": 5
}
